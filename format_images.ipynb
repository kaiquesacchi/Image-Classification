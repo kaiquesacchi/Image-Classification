{
 "metadata": {
  "language_info": {
   "codemirror_mode": {
    "name": "ipython",
    "version": 3
   },
   "file_extension": ".py",
   "mimetype": "text/x-python",
   "name": "python",
   "nbconvert_exporter": "python",
   "pygments_lexer": "ipython3",
   "version": "3.8.5-final"
  },
  "orig_nbformat": 2,
  "kernelspec": {
   "name": "python38564bitenvd48aee50ddc448a7a835ff29da784ec2",
   "display_name": "Python 3.8.5 64-bit ('env')",
   "language": "python"
  }
 },
 "nbformat": 4,
 "nbformat_minor": 2,
 "cells": [
  {
   "source": [
    "# Purpose\n",
    "Formats images, reducing the input complexity before training the neural network.\n",
    "In addition to normalizing the file names, offers image resizing and grayscale conversion.\n",
    "\n",
    "# Usage\n",
    "1. Install all dependencies with `pip install -r requirements.txt`. _(VirtualEnv usage recommended)_\n",
    "2. Create a source folder on the project's root, named `images_raw`.\n",
    "3. Inside `./images_raw/`, create a folder for each class, named after its ***label***.\n",
    "4. Add the photos in the matching class folder.\n",
    "5. Execute all the ***notebook cells***.\n",
    "6. The formatted files will be placed on the output folder `./images_formatted`.\n",
    "\n",
    "# Example of Directory Structure \n",
    "```\n",
    ".\n",
    "├── ...\n",
    "├── format_images.ipynb\n",
    "├── requirements.txt\n",
    "├── images_raw\n",
    "│   ├── class_A\n",
    "│   │   ├── image0.jpeg\n",
    "│   │   ├── image1.jpeg\n",
    "│   │   └── image2.jpeg\n",
    "│   └── class_B\n",
    "│       ├── image3.jpeg\n",
    "│       ├── image4.jpeg\n",
    "│       └── image5.jpeg\n",
    "│\n",
    "└── images_formatted\n",
    "    ├── class_A\n",
    "    │   ├── class_A-0.jpg\n",
    "    │   ├── class_A-1.jpg\n",
    "    │   └── class_A-2.jpg\n",
    "    └── class_B\n",
    "        ├── class_B-0.jpg\n",
    "        ├── class_B-1.jpg\n",
    "        └── class_B-2.jpg\n",
    "```\n",
    "\n",
    "The `./images_raw/` folder must be provided by the user before running this notebook's cells.\n",
    "\n",
    "The `./images_formatted/` folder will be automatically generated if not already existent."
   ],
   "cell_type": "markdown",
   "metadata": {}
  },
  {
   "source": [
    "## Definitions and Parameters\n",
    "Defines the name of the folders where the raw and formatted images should be placed, in addition to the parameters for the formatting process."
   ],
   "cell_type": "markdown",
   "metadata": {}
  },
  {
   "cell_type": "code",
   "execution_count": 20,
   "metadata": {},
   "outputs": [],
   "source": [
    "INPUT_FOLDER = 'images_raw'\n",
    "OUTPUT_FOLDER = 'images_formatted'"
   ]
  },
  {
   "cell_type": "code",
   "execution_count": 21,
   "metadata": {},
   "outputs": [],
   "source": [
    "IMAGE_SIZE = (128, 128)  # Tuple of (width, height) or None for no resizing.\n",
    "GRAYSCALE = True  # True if the grayscale conversion is desired."
   ]
  },
  {
   "source": [
    "Converts the images accordingly."
   ],
   "cell_type": "markdown",
   "metadata": {}
  },
  {
   "cell_type": "code",
   "execution_count": 22,
   "metadata": {},
   "outputs": [],
   "source": [
    "from PIL import Image\n",
    "import os\n",
    "\n",
    "# For each class-folder on INPUT_FOLDER.\n",
    "for folder in [x for x in os.listdir(INPUT_FOLDER) if os.path.isdir(os.path.join(INPUT_FOLDER, x))]:\n",
    "    # Creates output folder for each class.\n",
    "    os.makedirs(os.path.join(OUTPUT_FOLDER, folder), exist_ok=True)\n",
    "    # For each file on the class-folder.\n",
    "    for index, file in enumerate([x for x in os.listdir(os.path.join(INPUT_FOLDER, folder)) if os.path.isfile(os.path.join(INPUT_FOLDER, folder, x))]):\n",
    "        # Opens image.\n",
    "        file_path = os.path.join(INPUT_FOLDER, folder, file)\n",
    "        image = Image.open(file_path)\n",
    "        \n",
    "        # Converts image.\n",
    "        if GRAYSCALE:\n",
    "            image = image.convert(\"L\")\n",
    "        if IMAGE_SIZE is not None:\n",
    "            image = image.resize(IMAGE_SIZE)\n",
    "        \n",
    "        # Saves to the destination folder.\n",
    "        file = f\"{folder}-{index}.jpg\"\n",
    "        image.save(os.path.join(OUTPUT_FOLDER, folder, file))\n"
   ]
  },
  {
   "source": [
    "\n"
   ],
   "cell_type": "markdown",
   "metadata": {}
  }
 ]
}